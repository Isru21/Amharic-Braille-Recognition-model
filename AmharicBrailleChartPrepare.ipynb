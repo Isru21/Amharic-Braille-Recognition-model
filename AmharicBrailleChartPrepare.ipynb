{
 "cells": [
  {
   "cell_type": "code",
   "execution_count": 2,
   "id": "147b66e1",
   "metadata": {},
   "outputs": [
    {
     "name": "stdout",
     "output_type": "stream",
     "text": [
      "Collecting python-docx\n",
      "  Obtaining dependency information for python-docx from https://files.pythonhosted.org/packages/3e/3d/330d9efbdb816d3f60bf2ad92f05e1708e4a1b9abe80461ac3444c83f749/python_docx-1.1.2-py3-none-any.whl.metadata\n",
      "  Downloading python_docx-1.1.2-py3-none-any.whl.metadata (2.0 kB)\n",
      "Requirement already satisfied: lxml>=3.1.0 in c:\\users\\hello\\anaconda3\\lib\\site-packages (from python-docx) (4.9.3)\n",
      "Collecting typing-extensions>=4.9.0 (from python-docx)\n",
      "  Obtaining dependency information for typing-extensions>=4.9.0 from https://files.pythonhosted.org/packages/01/f3/936e209267d6ef7510322191003885de524fc48d1b43269810cd589ceaf5/typing_extensions-4.11.0-py3-none-any.whl.metadata\n",
      "  Downloading typing_extensions-4.11.0-py3-none-any.whl.metadata (3.0 kB)\n",
      "Downloading python_docx-1.1.2-py3-none-any.whl (244 kB)\n",
      "   ---------------------------------------- 0.0/244.3 kB ? eta -:--:--\n",
      "   - -------------------------------------- 10.2/244.3 kB ? eta -:--:--\n",
      "   --- ----------------------------------- 20.5/244.3 kB 162.5 kB/s eta 0:00:02\n",
      "   --- ----------------------------------- 20.5/244.3 kB 162.5 kB/s eta 0:00:02\n",
      "   ------ -------------------------------- 41.0/244.3 kB 217.9 kB/s eta 0:00:01\n",
      "   -------- ------------------------------ 51.2/244.3 kB 217.9 kB/s eta 0:00:01\n",
      "   ----------- --------------------------- 71.7/244.3 kB 280.5 kB/s eta 0:00:01\n",
      "   --------------- ---------------------- 102.4/244.3 kB 326.8 kB/s eta 0:00:01\n",
      "   --------------- ---------------------- 102.4/244.3 kB 326.8 kB/s eta 0:00:01\n",
      "   ------------------- ------------------ 122.9/244.3 kB 300.4 kB/s eta 0:00:01\n",
      "   -------------------- ----------------- 133.1/244.3 kB 327.7 kB/s eta 0:00:01\n",
      "   -------------------- ----------------- 133.1/244.3 kB 327.7 kB/s eta 0:00:01\n",
      "   -------------------- ----------------- 133.1/244.3 kB 327.7 kB/s eta 0:00:01\n",
      "   -------------------- ----------------- 133.1/244.3 kB 327.7 kB/s eta 0:00:01\n",
      "   -------------------- ----------------- 133.1/244.3 kB 327.7 kB/s eta 0:00:01\n",
      "   -------------------- ----------------- 133.1/244.3 kB 327.7 kB/s eta 0:00:01\n",
      "   -------------------- ----------------- 133.1/244.3 kB 327.7 kB/s eta 0:00:01\n",
      "   -------------------- ----------------- 133.1/244.3 kB 327.7 kB/s eta 0:00:01\n",
      "   -------------------- ----------------- 133.1/244.3 kB 327.7 kB/s eta 0:00:01\n",
      "   -------------------- ----------------- 133.1/244.3 kB 327.7 kB/s eta 0:00:01\n",
      "   -------------------- ----------------- 133.1/244.3 kB 327.7 kB/s eta 0:00:01\n",
      "   -------------------- ----------------- 133.1/244.3 kB 327.7 kB/s eta 0:00:01\n",
      "   -------------------- ----------------- 133.1/244.3 kB 327.7 kB/s eta 0:00:01\n",
      "   -------------------- ----------------- 133.1/244.3 kB 327.7 kB/s eta 0:00:01\n",
      "   -------------------- ----------------- 133.1/244.3 kB 327.7 kB/s eta 0:00:01\n",
      "   -------------------- ----------------- 133.1/244.3 kB 327.7 kB/s eta 0:00:01\n",
      "   -------------------- ----------------- 133.1/244.3 kB 327.7 kB/s eta 0:00:01\n",
      "   -------------------- ----------------- 133.1/244.3 kB 327.7 kB/s eta 0:00:01\n",
      "   -------------------- ----------------- 133.1/244.3 kB 327.7 kB/s eta 0:00:01\n",
      "   -------------------- ----------------- 133.1/244.3 kB 327.7 kB/s eta 0:00:01\n",
      "   -------------------- ----------------- 133.1/244.3 kB 327.7 kB/s eta 0:00:01\n",
      "   ----------------------- -------------- 153.6/244.3 kB 104.3 kB/s eta 0:00:01\n",
      "   ----------------------- -------------- 153.6/244.3 kB 104.3 kB/s eta 0:00:01\n",
      "   ----------------------- -------------- 153.6/244.3 kB 104.3 kB/s eta 0:00:01\n",
      "   ----------------------- -------------- 153.6/244.3 kB 104.3 kB/s eta 0:00:01\n",
      "   ----------------------- -------------- 153.6/244.3 kB 104.3 kB/s eta 0:00:01\n",
      "   --------------------------- ---------- 174.1/244.3 kB 100.8 kB/s eta 0:00:01\n",
      "   --------------------------- ---------- 174.1/244.3 kB 100.8 kB/s eta 0:00:01\n",
      "   --------------------------- ---------- 174.1/244.3 kB 100.8 kB/s eta 0:00:01\n",
      "   --------------------------- ---------- 174.1/244.3 kB 100.8 kB/s eta 0:00:01\n",
      "   --------------------------------- ---- 215.0/244.3 kB 112.0 kB/s eta 0:00:01\n",
      "   ------------------------------------ - 235.5/244.3 kB 122.2 kB/s eta 0:00:01\n",
      "   -------------------------------------- 244.3/244.3 kB 123.8 kB/s eta 0:00:00\n",
      "Downloading typing_extensions-4.11.0-py3-none-any.whl (34 kB)\n",
      "Installing collected packages: typing-extensions, python-docx\n",
      "  Attempting uninstall: typing-extensions\n",
      "    Found existing installation: typing_extensions 4.7.1\n",
      "    Uninstalling typing_extensions-4.7.1:\n",
      "      Successfully uninstalled typing_extensions-4.7.1\n",
      "Successfully installed python-docx-1.1.2 typing-extensions-4.11.0\n",
      "Note: you may need to restart the kernel to use updated packages.\n"
     ]
    }
   ],
   "source": [
    "pip install python-docx"
   ]
  },
  {
   "cell_type": "code",
   "execution_count": 6,
   "id": "39deb5e2",
   "metadata": {},
   "outputs": [
    {
     "name": "stdout",
     "output_type": "stream",
     "text": [
      "Word file created successfully!\n"
     ]
    }
   ],
   "source": [
    "from docx import Document\n",
    "\n",
    "# Function to create a Word file and write the line into it\n",
    "def create_word_file(filename, line, repetitions):\n",
    "    doc = Document()\n",
    "    for _ in range(repetitions):\n",
    "        doc.add_paragraph(line)\n",
    "    doc.save(filename)\n",
    "\n",
    "# Define the line to be written\n",
    "line = \"|   | OOOO |   | OOOO |   | OOOO |   | OOOO |   | OOOO |   | OOOO |   | OOOO |   | \"\n",
    "\n",
    "# Define the number of times to repeat the line\n",
    "repetitions = 51  \n",
    "\n",
    "# Define the filename for the Word file\n",
    "filename = \"/Users/Hello/Desktop/BRAILS/output.docx\"\n",
    "\n",
    "# Create the Word file\n",
    "create_word_file(filename, line, repetitions)\n",
    "\n",
    "print(\"Word file created successfully!\")\n"
   ]
  },
  {
   "cell_type": "code",
   "execution_count": null,
   "id": "9172d9d7",
   "metadata": {},
   "outputs": [],
   "source": []
  }
 ],
 "metadata": {
  "kernelspec": {
   "display_name": "Python 3 (ipykernel)",
   "language": "python",
   "name": "python3"
  },
  "language_info": {
   "codemirror_mode": {
    "name": "ipython",
    "version": 3
   },
   "file_extension": ".py",
   "mimetype": "text/x-python",
   "name": "python",
   "nbconvert_exporter": "python",
   "pygments_lexer": "ipython3",
   "version": "3.11.5"
  }
 },
 "nbformat": 4,
 "nbformat_minor": 5
}
