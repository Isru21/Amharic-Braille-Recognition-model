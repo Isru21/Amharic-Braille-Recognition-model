{
 "cells": [
  {
   "cell_type": "code",
   "execution_count": 9,
   "id": "476ae21d",
   "metadata": {},
   "outputs": [],
   "source": [
    "import os\n",
    "from PIL import Image, ImageEnhance, ImageChops\n",
    "\n",
    "dir_list = []\n",
    "for dirname, _, filenames in os.walk(r'C:\\Users\\Hello\\Downloads\\brailshift'):\n",
    "    for filename in filenames:\n",
    "        dir_list.append(os.path.join(dirname, filename))"
   ]
  },
  {
   "cell_type": "code",
   "execution_count": 10,
   "id": "a1b6b8d6",
   "metadata": {},
   "outputs": [],
   "source": [
    "name_list = []\n",
    "\n",
    "for i in dir_list:\n",
    "    name_list.append(os.path.basename(i)[:3])\n",
    " "
   ]
  },
  {
   "cell_type": "code",
   "execution_count": 28,
   "id": "375e09f7",
   "metadata": {},
   "outputs": [],
   "source": [
    "number = 0\n",
    "index = 0\n",
    "for dir in dir_list:\n",
    "    img = Image.open(str(dir))\n",
    "    enhancer = ImageEnhance.Brightness(img)\n",
    "    factor = 0.5 #darkens the image\n",
    "    im_output = enhancer.enhance(factor)\n",
    "    im_output.save(r\"C:/Users/Hello/Downloads/newshit/brailcorrect/\" +name_list[index]+\"dark\"+str(number)+\".jpg\")\n",
    "    factor = 1.4 #brightens the image\n",
    "    im_output = enhancer.enhance(factor)\n",
    "    im_output.save(r\"C:/Users/Hello/Downloads/newshit/brailcorrect/\" +name_list[index]+\"bright\"+str(number)+\".jpg\")\n",
    "    number = number +1\n",
    "    index = index +1"
   ]
  },
  {
   "cell_type": "code",
   "execution_count": 11,
   "id": "86ace89b",
   "metadata": {},
   "outputs": [],
   "source": [
    "number = 0\n",
    "index = 0\n",
    "for dir in dir_list:\n",
    "    img = Image.open(str(dir))\n",
    "    for i in range(55): \n",
    "        new_img =ImageChops.offset(img, 9)\n",
    "        new_img.save(r\"C:/Users/Hello/Downloads/brailshift/\" +name_list[index]+\"shift9\"+str(number)+\".jpg\")\n",
    "        number += 1\n",
    "    index += 1\n"
   ]
  },
  {
   "cell_type": "code",
   "execution_count": null,
   "id": "461618cd",
   "metadata": {},
   "outputs": [],
   "source": [
    " new_img =ImageChops.offset(img, 9)  # Change the degree of shifting as needed\n",
    "    new_img.save(r\"C:/Users/abese/Desktop/dark/\" +name_list[index]+\"shift9\"+str(number)+\".jpg\")"
   ]
  },
  {
   "cell_type": "code",
   "execution_count": null,
   "id": "712cd06b",
   "metadata": {},
   "outputs": [],
   "source": [
    "rotated_img = img.rotate(9, expand=True)  # Change the degree of rotation as needed\n",
    "        rotated_img.save(r\"C:/Users/Hello/Downloads/cropcorectedbrail/\" + name_list[index] + \"shift9\" + str(number) + \".jpg\")"
   ]
  }
 ],
 "metadata": {
  "kernelspec": {
   "display_name": "Python 3 (ipykernel)",
   "language": "python",
   "name": "python3"
  },
  "language_info": {
   "codemirror_mode": {
    "name": "ipython",
    "version": 3
   },
   "file_extension": ".py",
   "mimetype": "text/x-python",
   "name": "python",
   "nbconvert_exporter": "python",
   "pygments_lexer": "ipython3",
   "version": "3.11.5"
  }
 },
 "nbformat": 4,
 "nbformat_minor": 5
}
